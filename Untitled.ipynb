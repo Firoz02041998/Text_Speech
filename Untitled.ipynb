{
 "cells": [
  {
   "cell_type": "code",
   "execution_count": 2,
   "metadata": {},
   "outputs": [
    {
     "name": "stdout",
     "output_type": "stream",
     "text": [
      "Requirement already satisfied: SpeechRecognition in c:\\users\\firoz saherawala\\appdata\\local\\programs\\python\\python37\\lib\\site-packages (3.8.1)\n"
     ]
    },
    {
     "name": "stderr",
     "output_type": "stream",
     "text": [
      "WARNING: You are using pip version 19.2.3, however version 20.0.2 is available.\n",
      "You should consider upgrading via the 'python -m pip install --upgrade pip' command.\n"
     ]
    }
   ],
   "source": [
    "!pip install SpeechRecognition"
   ]
  },
  {
   "cell_type": "code",
   "execution_count": 3,
   "metadata": {},
   "outputs": [
    {
     "name": "stdout",
     "output_type": "stream",
     "text": [
      "Requirement already satisfied: wheel in c:\\users\\firoz saherawala\\appdata\\local\\programs\\python\\python37\\lib\\site-packages (0.34.2)\n"
     ]
    },
    {
     "name": "stderr",
     "output_type": "stream",
     "text": [
      "WARNING: You are using pip version 19.2.3, however version 20.0.2 is available.\n",
      "You should consider upgrading via the 'python -m pip install --upgrade pip' command.\n"
     ]
    },
    {
     "name": "stdout",
     "output_type": "stream",
     "text": [
      "Requirement already satisfied: google-api-python-client in c:\\users\\firoz saherawala\\appdata\\local\\programs\\python\\python37\\lib\\site-packages (1.8.0)"
     ]
    },
    {
     "name": "stderr",
     "output_type": "stream",
     "text": [
      "WARNING: You are using pip version 19.2.3, however version 20.0.2 is available.\n",
      "You should consider upgrading via the 'python -m pip install --upgrade pip' command.\n"
     ]
    },
    {
     "name": "stdout",
     "output_type": "stream",
     "text": [
      "\n",
      "Requirement already satisfied: google-auth>=1.4.1 in c:\\users\\firoz saherawala\\appdata\\local\\programs\\python\\python37\\lib\\site-packages (from google-api-python-client) (1.12.0)\n",
      "Requirement already satisfied: google-auth-httplib2>=0.0.3 in c:\\users\\firoz saherawala\\appdata\\local\\programs\\python\\python37\\lib\\site-packages (from google-api-python-client) (0.0.3)\n",
      "Requirement already satisfied: six<2dev,>=1.6.1 in c:\\users\\firoz saherawala\\appdata\\local\\programs\\python\\python37\\lib\\site-packages (from google-api-python-client) (1.14.0)\n",
      "Requirement already satisfied: uritemplate<4dev,>=3.0.0 in c:\\users\\firoz saherawala\\appdata\\local\\programs\\python\\python37\\lib\\site-packages (from google-api-python-client) (3.0.1)\n",
      "Requirement already satisfied: httplib2<1dev,>=0.9.2 in c:\\users\\firoz saherawala\\appdata\\local\\programs\\python\\python37\\lib\\site-packages (from google-api-python-client) (0.17.0)\n",
      "Requirement already satisfied: google-api-core<2dev,>=1.13.0 in c:\\users\\firoz saherawala\\appdata\\local\\programs\\python\\python37\\lib\\site-packages (from google-api-python-client) (1.16.0)\n",
      "Requirement already satisfied: rsa<4.1,>=3.1.4 in c:\\users\\firoz saherawala\\appdata\\local\\programs\\python\\python37\\lib\\site-packages (from google-auth>=1.4.1->google-api-python-client) (4.0)\n",
      "Requirement already satisfied: cachetools<5.0,>=2.0.0 in c:\\users\\firoz saherawala\\appdata\\local\\programs\\python\\python37\\lib\\site-packages (from google-auth>=1.4.1->google-api-python-client) (4.0.0)\n",
      "Requirement already satisfied: setuptools>=40.3.0 in c:\\users\\firoz saherawala\\appdata\\local\\programs\\python\\python37\\lib\\site-packages (from google-auth>=1.4.1->google-api-python-client) (41.2.0)\n",
      "Requirement already satisfied: pyasn1-modules>=0.2.1 in c:\\users\\firoz saherawala\\appdata\\local\\programs\\python\\python37\\lib\\site-packages (from google-auth>=1.4.1->google-api-python-client) (0.2.8)\n",
      "Requirement already satisfied: protobuf>=3.4.0 in c:\\users\\firoz saherawala\\appdata\\local\\programs\\python\\python37\\lib\\site-packages (from google-api-core<2dev,>=1.13.0->google-api-python-client) (3.11.3)\n",
      "Requirement already satisfied: requests<3.0.0dev,>=2.18.0 in c:\\users\\firoz saherawala\\appdata\\local\\programs\\python\\python37\\lib\\site-packages (from google-api-core<2dev,>=1.13.0->google-api-python-client) (2.23.0)\n",
      "Requirement already satisfied: googleapis-common-protos<2.0dev,>=1.6.0 in c:\\users\\firoz saherawala\\appdata\\local\\programs\\python\\python37\\lib\\site-packages (from google-api-core<2dev,>=1.13.0->google-api-python-client) (1.51.0)\n",
      "Requirement already satisfied: pytz in c:\\users\\firoz saherawala\\appdata\\local\\programs\\python\\python37\\lib\\site-packages (from google-api-core<2dev,>=1.13.0->google-api-python-client) (2019.3)\n",
      "Requirement already satisfied: pyasn1>=0.1.3 in c:\\users\\firoz saherawala\\appdata\\local\\programs\\python\\python37\\lib\\site-packages (from rsa<4.1,>=3.1.4->google-auth>=1.4.1->google-api-python-client) (0.4.8)\n",
      "Requirement already satisfied: idna<3,>=2.5 in c:\\users\\firoz saherawala\\appdata\\local\\programs\\python\\python37\\lib\\site-packages (from requests<3.0.0dev,>=2.18.0->google-api-core<2dev,>=1.13.0->google-api-python-client) (2.9)\n",
      "Requirement already satisfied: urllib3!=1.25.0,!=1.25.1,<1.26,>=1.21.1 in c:\\users\\firoz saherawala\\appdata\\local\\programs\\python\\python37\\lib\\site-packages (from requests<3.0.0dev,>=2.18.0->google-api-core<2dev,>=1.13.0->google-api-python-client) (1.25.8)\n",
      "Requirement already satisfied: chardet<4,>=3.0.2 in c:\\users\\firoz saherawala\\appdata\\local\\programs\\python\\python37\\lib\\site-packages (from requests<3.0.0dev,>=2.18.0->google-api-core<2dev,>=1.13.0->google-api-python-client) (3.0.4)\n",
      "Requirement already satisfied: certifi>=2017.4.17 in c:\\users\\firoz saherawala\\appdata\\local\\programs\\python\\python37\\lib\\site-packages (from requests<3.0.0dev,>=2.18.0->google-api-core<2dev,>=1.13.0->google-api-python-client) (2019.11.28)\n"
     ]
    },
    {
     "name": "stderr",
     "output_type": "stream",
     "text": [
      "'sudo' is not recognized as an internal or external command,\n",
      "operable program or batch file.\n"
     ]
    },
    {
     "name": "stdout",
     "output_type": "stream",
     "text": [
      "Requirement already satisfied: monotonic in c:\\users\\firoz saherawala\\appdata\\local\\programs\\python\\python37\\lib\\site-packages (1.5)\n"
     ]
    },
    {
     "name": "stderr",
     "output_type": "stream",
     "text": [
      "WARNING: You are using pip version 19.2.3, however version 20.0.2 is available.\n",
      "You should consider upgrading via the 'python -m pip install --upgrade pip' command.\n"
     ]
    }
   ],
   "source": [
    "!pip install wheel\n",
    "!pip install google-api-python-client\n",
    "!sudo apt-get install flac\n",
    "!pip install monotonic"
   ]
  },
  {
   "cell_type": "code",
   "execution_count": 4,
   "metadata": {},
   "outputs": [],
   "source": [
    "import speech_recognition as sr"
   ]
  },
  {
   "cell_type": "code",
   "execution_count": 5,
   "metadata": {},
   "outputs": [
    {
     "name": "stdout",
     "output_type": "stream",
     "text": [
      "Requirement already satisfied: pyaudio in c:\\users\\firoz saherawala\\appdata\\local\\programs\\python\\python37\\lib\\site-packages (0.2.11)\n"
     ]
    },
    {
     "name": "stderr",
     "output_type": "stream",
     "text": [
      "WARNING: You are using pip version 19.2.3, however version 20.0.2 is available.\n",
      "You should consider upgrading via the 'python -m pip install --upgrade pip' command.\n"
     ]
    }
   ],
   "source": [
    "!pip install pyaudio"
   ]
  },
  {
   "cell_type": "code",
   "execution_count": 6,
   "metadata": {},
   "outputs": [
    {
     "name": "stdout",
     "output_type": "stream",
     "text": [
      "Requirement already satisfied: pipwin in c:\\users\\firoz saherawala\\appdata\\local\\programs\\python\\python37\\lib\\site-packages (0.4.9)\n",
      "Requirement already satisfied: requests in c:\\users\\firoz saherawala\\appdata\\local\\programs\\python\\python37\\lib\\site-packages (from pipwin) (2.23.0)\n",
      "Requirement already satisfied: pyprind in c:\\users\\firoz saherawala\\appdata\\local\\programs\\python\\python37\\lib\\site-packages (from pipwin) (2.11.2)\n",
      "Requirement already satisfied: six in c:\\users\\firoz saherawala\\appdata\\local\\programs\\python\\python37\\lib\\site-packages (from pipwin) (1.14.0)\n",
      "Requirement already satisfied: beautifulsoup4 in c:\\users\\firoz saherawala\\appdata\\local\\programs\\python\\python37\\lib\\site-packages (from pipwin) (4.8.2)\n",
      "Requirement already satisfied: docopt in c:\\users\\firoz saherawala\\appdata\\local\\programs\\python\\python37\\lib\\site-packages (from pipwin) (0.6.2)\n",
      "Requirement already satisfied: js2py in c:\\users\\firoz saherawala\\appdata\\local\\programs\\python\\python37\\lib\\site-packages (from pipwin) (0.68)\n",
      "Requirement already satisfied: packaging in c:\\users\\firoz saherawala\\appdata\\local\\programs\\python\\python37\\lib\\site-packages (from pipwin) (20.3)\n",
      "Requirement already satisfied: pySmartDL>=1.3.1; python_version >= \"3.4\" in c:\\users\\firoz saherawala\\appdata\\local\\programs\\python\\python37\\lib\\site-packages (from pipwin) (1.3.3)\n",
      "Requirement already satisfied: chardet<4,>=3.0.2 in c:\\users\\firoz saherawala\\appdata\\local\\programs\\python\\python37\\lib\\site-packages (from requests->pipwin) (3.0.4)\n",
      "Requirement already satisfied: urllib3!=1.25.0,!=1.25.1,<1.26,>=1.21.1 in c:\\users\\firoz saherawala\\appdata\\local\\programs\\python\\python37\\lib\\site-packages (from requests->pipwin) (1.25.8)\n",
      "Requirement already satisfied: idna<3,>=2.5 in c:\\users\\firoz saherawala\\appdata\\local\\programs\\python\\python37\\lib\\site-packages (from requests->pipwin) (2.9)\n",
      "Requirement already satisfied: certifi>=2017.4.17 in c:\\users\\firoz saherawala\\appdata\\local\\programs\\python\\python37\\lib\\site-packages (from requests->pipwin) (2019.11.28)\n",
      "Requirement already satisfied: soupsieve>=1.2 in c:\\users\\firoz saherawala\\appdata\\local\\programs\\python\\python37\\lib\\site-packages (from beautifulsoup4->pipwin) (2.0)\n",
      "Requirement already satisfied: tzlocal>=1.2 in c:\\users\\firoz saherawala\\appdata\\local\\programs\\python\\python37\\lib\\site-packages (from js2py->pipwin) (2.0.0)\n",
      "Requirement already satisfied: pyjsparser>=2.5.1 in c:\\users\\firoz saherawala\\appdata\\local\\programs\\python\\python37\\lib\\site-packages (from js2py->pipwin) (2.7.1)\n",
      "Requirement already satisfied: pyparsing>=2.0.2 in c:\\users\\firoz saherawala\\appdata\\local\\programs\\python\\python37\\lib\\site-packages (from packaging->pipwin) (2.4.6)\n",
      "Requirement already satisfied: pytz in c:\\users\\firoz saherawala\\appdata\\local\\programs\\python\\python37\\lib\\site-packages (from tzlocal>=1.2->js2py->pipwin) (2019.3)\n"
     ]
    },
    {
     "name": "stderr",
     "output_type": "stream",
     "text": [
      "WARNING: You are using pip version 19.2.3, however version 20.0.2 is available.\n",
      "You should consider upgrading via the 'python -m pip install --upgrade pip' command.\n"
     ]
    }
   ],
   "source": [
    "!pip install pipwin"
   ]
  },
  {
   "cell_type": "code",
   "execution_count": 7,
   "metadata": {},
   "outputs": [
    {
     "name": "stdout",
     "output_type": "stream",
     "text": [
      "Package `pyaudio` found in cache\n",
      "Downloading package . . .\n",
      "https://download.lfd.uci.edu/pythonlibs/s2jqpv5t/PyAudio-0.2.11-cp37-cp37m-win_amd64.whl\n",
      "PyAudio-0.2.11-cp37-cp37m-win_amd64.whl\n",
      "[*] 0 bytes / 109 kB @ 0 bytes/s [------------------] [0.0%, 0s left]   \b\b\b\b\b\b\b\b\b\b\b\b\b\b\b\b\b\b\b\b\b\b\b\b\b\b\b\b\b\b\b\b\b\b\b\b\b\b\b\b\b\b\b\b\b\b\b\b\b\b\b\b\b\b\b\b\b\b\b\b\b\b\b\b\b\b\b\b\b\b\b\b\b [*] 0 bytes / 109 kB @ 0 bytes/s [------------------] [0.0%, 0s left]   \b\b\b\b\b\b\b\b\b\b\b\b\b\b\b\b\b\b\b\b\b\b\b\b\b\b\b\b\b\b\b\b\b\b\b\b\b\b\b\b\b\b\b\b\b\b\b\b\b\b\b\b\b\b\b\b\b\b\b\b\b\b\b\b\b\b\b\b\b\b\b\b\b [*] 0 bytes / 109 kB @ 0 bytes/s [------------------] [0.0%, 0s left]   \b\b\b\b\b\b\b\b\b\b\b\b\b\b\b\b\b\b\b\b\b\b\b\b\b\b\b\b\b\b\b\b\b\b\b\b\b\b\b\b\b\b\b\b\b\b\b\b\b\b\b\b\b\b\b\b\b\b\b\b\b\b\b\b\b\b\b\b\b\b\b\b\b [*] 0 bytes / 109 kB @ 0 bytes/s [------------------] [0.0%, 0s left]   \b\b\b\b\b\b\b\b\b\b\b\b\b\b\b\b\b\b\b\b\b\b\b\b\b\b\b\b\b\b\b\b\b\b\b\b\b\b\b\b\b\b\b\b\b\b\b\b\b\b\b\b\b\b\b\b\b\b\b\b\b\b\b\b\b\b\b\b\b\b\b\b\b [*] 0 bytes / 109 kB @ 0 bytes/s [------------------] [0.0%, 0s left]   \b\b\b\b\b\b\b\b\b\b\b\b\b\b\b\b\b\b\b\b\b\b\b\b\b\b\b\b\b\b\b\b\b\b\b\b\b\b\b\b\b\b\b\b\b\b\b\b\b\b\b\b\b\b\b\b\b\b\b\b\b\b\b\b\b\b\b\b\b\b\b\b\b [*] 0 bytes / 109 kB @ 0 bytes/s [------------------] [0.0%, 0s left]   \b\b\b\b\b\b\b\b\b\b\b\b\b\b\b\b\b\b\b\b\b\b\b\b\b\b\b\b\b\b\b\b\b\b\b\b\b\b\b\b\b\b\b\b\b\b\b\b\b\b\b\b\b\b\b\b\b\b\b\b\b\b\b\b\b\b\b\b\b\b\b\b\b [*] 0 bytes / 109 kB @ 0 bytes/s [------------------] [0.0%, 0s left]   \b\b\b\b\b\b\b\b\b\b\b\b\b\b\b\b\b\b\b\b\b\b\b\b\b\b\b\b\b\b\b\b\b\b\b\b\b\b\b\b\b\b\b\b\b\b\b\b\b\b\b\b\b\b\b\b\b\b\b\b\b\b\b\b\b\b\b\b\b\b\b\b\b [*] 0 bytes / 109 kB @ 0 bytes/s [------------------] [0.0%, 0s left]   \b\b\b\b\b\b\b\b\b\b\b\b\b\b\b\b\b\b\b\b\b\b\b\b\b\b\b\b\b\b\b\b\b\b\b\b\b\b\b\b\b\b\b\b\b\b\b\b\b\b\b\b\b\b\b\b\b\b\b\b\b\b\b\b\b\b\b\b\b\b\b\b\b [*] 0 bytes / 109 kB @ 0 bytes/s [------------------] [0.0%, 0s left]   \b\b\b\b\b\b\b\b\b\b\b\b\b\b\b\b\b\b\b\b\b\b\b\b\b\b\b\b\b\b\b\b\b\b\b\b\b\b\b\b\b\b\b\b\b\b\b\b\b\b\b\b\b\b\b\b\b\b\b\b\b\b\b\b\b\b\b\b\b\b\b\b\b [*] 0 bytes / 109 kB @ 0 bytes/s [------------------] [0.0%, 0s left]   \b\b\b\b\b\b\b\b\b\b\b\b\b\b\b\b\b\b\b\b\b\b\b\b\b\b\b\b\b\b\b\b\b\b\b\b\b\b\b\b\b\b\b\b\b\b\b\b\b\b\b\b\b\b\b\b\b\b\b\b\b\b\b\b\b\b\b\b\b\b\b\b\b [*] 0 bytes / 109 kB @ 0 bytes/s [------------------] [0.0%, 0s left]   \b\b\b\b\b\b\b\b\b\b\b\b\b\b\b\b\b\b\b\b\b\b\b\b\b\b\b\b\b\b\b\b\b\b\b\b\b\b\b\b\b\b\b\b\b\b\b\b\b\b\b\b\b\b\b\b\b\b\b\b\b\b\b\b\b\b\b\b\b\b\b\b\b [*] 0 bytes / 109 kB @ 0 bytes/s [------------------] [0.0%, 0s left]   \b\b\b\b\b\b\b\b\b\b\b\b\b\b\b\b\b\b\b\b\b\b\b\b\b\b\b\b\b\b\b\b\b\b\b\b\b\b\b\b\b\b\b\b\b\b\b\b\b\b\b\b\b\b\b\b\b\b\b\b\b\b\b\b\b\b\b\b\b\b\b\b\b [*] 0 bytes / 109 kB @ 0 bytes/s [------------------] [0.0%, 0s left]   \b\b\b\b\b\b\b\b\b\b\b\b\b\b\b\b\b\b\b\b\b\b\b\b\b\b\b\b\b\b\b\b\b\b\b\b\b\b\b\b\b\b\b\b\b\b\b\b\b\b\b\b\b\b\b\b\b\b\b\b\b\b\b\b\b\b\b\b\b\b\b\b\b [*] 8 kB / 109 kB @ 6 kB/s [#-----------------] [7.4%, 0s left]   \b\b\b\b\b\b\b\b\b\b\b\b\b\b\b\b\b\b\b\b\b\b\b\b\b\b\b\b\b\b\b\b\b\b\b\b\b\b\b\b\b\b\b\b\b\b\b\b\b\b\b\b\b\b\b\b\b\b\b\b\b\b\b\b\b\b\b [*] 8 kB / 109 kB @ 5 kB/s [#-----------------] [7.4%, 0s left]   \b\b\b\b\b\b\b\b\b\b\b\b\b\b\b\b\b\b\b\b\b\b\b\b\b\b\b\b\b\b\b\b\b\b\b\b\b\b\b\b\b\b\b\b\b\b\b\b\b\b\b\b\b\b\b\b\b\b\b\b\b\b\b\b\b\b\b [*] 8 kB / 109 kB @ 5 kB/s [#-----------------] [7.4%, 0s left]   \b\b\b\b\b\b\b\b\b\b\b\b\b\b\b\b\b\b\b\b\b\b\b\b\b\b\b\b\b\b\b\b\b\b\b\b\b\b\b\b\b\b\b\b\b\b\b\b\b\b\b\b\b\b\b\b\b\b\b\b\b\b\b\b\b\b\b [*] 40 kB / 109 kB @ 24 kB/s [######------------] [36.9%, 0s left]   \b\b\b\b\b\b\b\b\b\b\b\b\b\b\b\b\b\b\b\b\b\b\b\b\b\b\b\b\b\b\b\b\b\b\b\b\b\b\b\b\b\b\b\b\b\b\b\b\b\b\b\b\b\b\b\b\b\b\b\b\b\b\b\b\b\b\b\b\b\b [*] 40 kB / 109 kB @ 22 kB/s [######------------] [36.9%, 0s left]   \b\b\b\b\b\b\b\b\b\b\b\b\b\b\b\b\b\b\b\b\b\b\b\b\b\b\b\b\b\b\b\b\b\b\b\b\b\b\b\b\b\b\b\b\b\b\b\b\b\b\b\b\b\b\b\b\b\b\b\b\b\b\b\b\b\b\b\b\b\b [*] 72 kB / 109 kB @ 38 kB/s [###########-------] [66.3%, 0s left]   \b\b\b\b\b\b\b\b\b\b\b\b\b\b\b\b\b\b\b\b\b\b\b\b\b\b\b\b\b\b\b\b\b\b\b\b\b\b\b\b\b\b\b\b\b\b\b\b\b\b\b\b\b\b\b\b\b\b\b\b\b\b\b\b\b\b\b\b\b\b Requirement already satisfied: PyAudio==0.2.11 from file:///C:/Users/Firoz%20Saherawala/pipwin/PyAudio-0.2.11-cp37-cp37m-win_amd64.whl in c:\\users\\firoz saherawala\\appdata\\local\\programs\\python\\python37\\lib\\site-packages (0.2.11)\n",
      "[*] 109 kB / 109 kB @ 38 kB/s [##################] [100%, 0s left]    \n"
     ]
    },
    {
     "name": "stderr",
     "output_type": "stream",
     "text": [
      "WARNING: You are using pip version 19.2.3, however version 20.0.2 is available.\n",
      "You should consider upgrading via the 'python -m pip install --upgrade pip' command.\n"
     ]
    }
   ],
   "source": [
    "!pipwin install pyaudio"
   ]
  },
  {
   "cell_type": "code",
   "execution_count": 10,
   "metadata": {},
   "outputs": [],
   "source": [
    "import webbrowser as wb\n",
    "import pyttsx3"
   ]
  },
  {
   "cell_type": "code",
   "execution_count": 11,
   "metadata": {},
   "outputs": [],
   "source": [
    "engine = pyttsx3.init('sapi5')\n",
    "voice = engine.getProperty('voices')\n",
    "engine.setProperty('voice',voice[0].id)\n",
    "\n",
    "def speak(text):\n",
    "    engine.say(text)\n",
    "    engine.runAndWait()\n",
    "    \n",
    "speak(\"What is Life?\")\n",
    "    "
   ]
  },
  {
   "cell_type": "code",
   "execution_count": null,
   "metadata": {},
   "outputs": [],
   "source": []
  }
 ],
 "metadata": {
  "kernelspec": {
   "display_name": "Python 3",
   "language": "python",
   "name": "python3"
  },
  "language_info": {
   "codemirror_mode": {
    "name": "ipython",
    "version": 3
   },
   "file_extension": ".py",
   "mimetype": "text/x-python",
   "name": "python",
   "nbconvert_exporter": "python",
   "pygments_lexer": "ipython3",
   "version": "3.7.7"
  }
 },
 "nbformat": 4,
 "nbformat_minor": 4
}
